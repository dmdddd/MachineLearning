{
  "nbformat": 4,
  "nbformat_minor": 0,
  "metadata": {
    "colab": {
      "name": "ML_Proj.ipynb",
      "version": "0.3.2",
      "provenance": [],
      "private_outputs": true,
      "collapsed_sections": []
    },
    "kernelspec": {
      "display_name": "Python 3",
      "name": "python3"
    }
  },
  "cells": [
    {
      "cell_type": "code",
      "metadata": {
        "id": "lhQDIcSNz5tp",
        "colab_type": "code",
        "colab": {}
      },
      "source": [
        "import cv2\n",
        "import os\n",
        "import imageio\n",
        "import numpy as np\n",
        "from keras.datasets import cifar100\n",
        "from keras.models import Sequential\n",
        "from keras.layers import Dense, Dropout, Activation, Flatten\n",
        "from keras.layers import Conv2D, MaxPooling2D, ZeroPadding2D\n",
        "from keras.optimizers import SGD, adam\n",
        "from keras.regularizers import l2\n",
        "from keras.applications import vgg16, inception_v3, resnet50, mobilenet\n",
        "from keras.callbacks import Callback, LearningRateScheduler, TensorBoard, ModelCheckpoint\n",
        "from keras.preprocessing.image import ImageDataGenerator\n",
        "from keras.utils import print_summary, to_categorical\n",
        "from keras import backend as K\n",
        "from  skimage import transform\n",
        "from keras.models import Model\n",
        "from keras.callbacks import ModelCheckpoint, LearningRateScheduler, TensorBoard, EarlyStopping\n",
        "\n",
        "BATCH_SIZE = 100\n",
        "NUM_CLASSES = 2\n",
        "EPOCHS = 10"
      ],
      "execution_count": 0,
      "outputs": []
    },
    {
      "cell_type": "code",
      "metadata": {
        "id": "Dls54ACsz-gO",
        "colab_type": "code",
        "colab": {}
      },
      "source": [
        "def load_data():\n",
        "    labels = ['apple', 'aquarium_fish', 'baby', 'bear', 'beaver', 'bed', 'bee', 'beetle', 'bicycle', 'bottle', 'bowl',\n",
        "              'boy', 'bridge', 'bus', 'butterfly', 'camel', 'can', 'castle', 'caterpillar', 'cattle', 'chair',\n",
        "              'chimpanzee', 'clock', 'cloud', 'cockroach', 'couch', 'crab', 'crocodile', 'cup', 'dinosaur', 'dolphin',\n",
        "              'elephant', 'flatfish', 'forest', 'fox', 'girl', 'hamster', 'house', 'kangaroo', 'keyboard', 'lamp',\n",
        "              'lawn_mower', 'leopard', 'lion', 'lizard', 'lobster', 'man', 'maple_tree', 'motorcycle', 'mountain',\n",
        "              'mouse', 'mushroom', 'oak_tree', 'orange', 'orchid', 'otter', 'palm_tree', 'pear', 'pickup_truck',\n",
        "              'pine_tree', 'plain', 'plate', 'poppy', 'porcupine', 'possum', 'rabbit', 'raccoon', 'ray', 'road',\n",
        "              'rocket', 'rose', 'sea', 'seal', 'shark', 'shrew', 'skunk', 'skyscraper', 'snail', 'snake', 'spider',\n",
        "              'squirrel', 'streetcar', 'sunflower', 'sweet_pepper', 'table', 'tank', 'telephone', 'television', 'tiger',\n",
        "              'tractor', 'train', 'trout', 'tulip', 'turtle', 'wardrobe', 'whale', 'willow_tree', 'wolf', 'woman',\n",
        "              'worm']\n",
        "\n",
        "    # Get a list of the indexes we need\n",
        "    people_indexes = [labels.index(\"boy\"), labels.index(\"girl\"), labels.index(\"man\"), labels.index(\"woman\")]\n",
        "    cars = labels.index(\"streetcar\")\n",
        "\n",
        "    (x_train, y_train), (x_test, y_test) = cifar100.load_data(label_mode='fine')\n",
        "    \n",
        "    # Load CIFAR training data\n",
        "    i = 0\n",
        "    X_train_list = []\n",
        "    Y_train_list = []\n",
        "    \n",
        "    for img in x_train:\n",
        "        if y_train[i, 0] in people_indexes:\n",
        "            X_train_list.append(img)\n",
        "            Y_train_list.append(np.array([1, 0]))\n",
        "\n",
        "        if y_train[i, 0] == cars:\n",
        "            X_train_list.append(img)\n",
        "            Y_train_list.append(np.array([0, 1]))\n",
        "\n",
        "        i += 1\n",
        "\n",
        "    # Load CIFAR validation data\n",
        "    i = 0\n",
        "    X_test_list = []\n",
        "    Y_test_list = []\n",
        "    \n",
        "    for img in x_test:\n",
        "        if y_train[i, 0] in people_indexes:\n",
        "            X_test_list.append(img)\n",
        "            Y_test_list.append(np.array([1, 0]))\n",
        "\n",
        "        if y_train[i, 0] == cars:\n",
        "            X_test_list.append(img)\n",
        "            Y_test_list.append(np.array([0, 1]))\n",
        "\n",
        "\n",
        "        i += 1     \n",
        "    \n",
        "    X_train_list = np.asarray(X_train_list)\n",
        "    Y_train_list = np.asarray(Y_train_list)\n",
        "    X_test_list = np.asarray(X_test_list)\n",
        "    Y_test_list = np.asarray(Y_test_list)\n",
        "    \n",
        "    \n",
        "    \n",
        "\n",
        "    return (X_train_list, Y_train_list), (X_test_list, Y_test_list)"
      ],
      "execution_count": 0,
      "outputs": []
    },
    {
      "cell_type": "code",
      "metadata": {
        "id": "KOp96do8z-ex",
        "colab_type": "code",
        "colab": {}
      },
      "source": [
        "\n",
        "# Load training and validation data\n",
        "(x_train, y_train), (x_test, y_test) = load_data()\n",
        "print(x_train.shape, y_train.shape)\n",
        "print(x_test.shape, y_test.shape)\n",
        "\n",
        "# Normalize data\n",
        "x_train = x_train.astype('float32') / 255\n",
        "x_test = x_test.astype('float32') / 255"
      ],
      "execution_count": 0,
      "outputs": []
    },
    {
      "cell_type": "markdown",
      "metadata": {
        "id": "PETLYtBYMkvm",
        "colab_type": "text"
      },
      "source": [
        "Resizing input, Resnet50 is trained on images with the size of 244,244,3 while CIFAR's data is much smaler(32, 32, 3)"
      ]
    },
    {
      "cell_type": "code",
      "metadata": {
        "id": "QTMsoJWt0f0N",
        "colab_type": "code",
        "colab": {}
      },
      "source": [
        "print(\"Resizing input data\")\n",
        "new_shape = (224, 224, 3)\n",
        "x_train = np.asarray([transform.resize(image, new_shape) for image in x_train])\n",
        "print(x_train.shape)\n",
        "\n",
        "x_test = np.asarray([transform.resize(image, new_shape) for image in x_test])\n",
        "print(x_test.shape)"
      ],
      "execution_count": 0,
      "outputs": []
    },
    {
      "cell_type": "markdown",
      "metadata": {
        "id": "D8sK7YzTOGah",
        "colab_type": "text"
      },
      "source": [
        "Loading ResNet50 while excluding the last layer  \n",
        "Adding a new Softmax layer on top"
      ]
    },
    {
      "cell_type": "code",
      "metadata": {
        "id": "1Sx5gGcl3C5x",
        "colab_type": "code",
        "colab": {}
      },
      "source": [
        "model = Sequential()\n",
        "\n",
        "model.add(resnet50.ResNet50(include_top=False, weights='imagenet', pooling='avg'))\n",
        "\n",
        "# 2nd layer as Dense for 2-class classification, i.e., dog or cat using SoftMax activation\n",
        "model.add(Dense(NUM_CLASSES, activation='softmax'))\n",
        "\n",
        "# Say not to train first layer (ResNet) model as it is already trained\n",
        "model.layers[0].trainable = False\n",
        "\n",
        "model.summary()\n",
        "\n",
        "model.compile(optimizer='adam',\n",
        "              loss='categorical_crossentropy',\n",
        "              metrics=['accuracy'])"
      ],
      "execution_count": 0,
      "outputs": []
    },
    {
      "cell_type": "code",
      "metadata": {
        "id": "3z1pVz163KRU",
        "colab_type": "code",
        "colab": {}
      },
      "source": [
        "# Prepare model model saving directory.\n",
        "save_dir = os.path.join(os.getcwd(), 'saved_models')\n",
        "model_name = 'model.{epoch:03d}.h5'\n",
        "\n",
        "if not os.path.isdir(save_dir):\n",
        "    os.makedirs(save_dir)\n",
        "\n",
        "filepath = os.path.join(save_dir, model_name)\n",
        "\n",
        "# Prepare callbacks for model saving and for learning rate adjustment.\n",
        "checkpoint = ModelCheckpoint(filepath=filepath,\n",
        "                             monitor='val_acc',\n",
        "                             verbose=1,\n",
        "                             save_best_only=True)\n",
        "\n",
        "callbacks = [checkpoint]"
      ],
      "execution_count": 0,
      "outputs": []
    },
    {
      "cell_type": "code",
      "metadata": {
        "id": "2gfkLTLO0Ydl",
        "colab_type": "code",
        "colab": {}
      },
      "source": [
        "model.fit(x_train, y_train,\n",
        "          batch_size=BATCH_SIZE,\n",
        "          epochs=EPOCHS,\n",
        "          validation_data=(x_test, y_test),\n",
        "          shuffle=True, callbacks=callbacks)"
      ],
      "execution_count": 0,
      "outputs": []
    }
  ]
}